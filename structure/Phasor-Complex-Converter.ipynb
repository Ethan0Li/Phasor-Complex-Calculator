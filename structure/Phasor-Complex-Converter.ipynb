{
 "cells": [
  {
   "cell_type": "code",
   "execution_count": 6,
   "id": "53fe5c5a",
   "metadata": {},
   "outputs": [],
   "source": [
    "#necessary Imports\n",
    "import math\n",
    "import sys\n",
    "from Phasor import Phasor"
   ]
  },
  {
   "cell_type": "code",
   "execution_count": 3,
   "id": "2d78c383",
   "metadata": {},
   "outputs": [
    {
     "name": "stdout",
     "output_type": "stream",
     "text": [
      "(4+5j)\n",
      "6.4031242374328485∠51.34019174590991°\n"
     ]
    }
   ],
   "source": [
    "#Complex->Phasor\n",
    "#takes String input ie \"[real] + [imag]j\"\n",
    "cpxNum = input(\"Input Complex in format \\u0022[real]+[imag]j\\u0022: \")\n",
    "\n",
    "#considers whitespace and replace\n",
    "try:\n",
    "    cpxNum = complex(cpxNum.replace(\" \", \"\"))\n",
    "except ValueError:\n",
    "    sys.exit(\"Please try again in standard format\")\n",
    "\n",
    "print(cpxNum)\n",
    "\n",
    "#convert to phasor\n",
    "mag = math.sqrt(cpxNum.real * cpxNum.real + cpxNum.imag * cpxNum.imag)\n",
    "degree = math.atan(cpxNum.imag / cpxNum.real) * 180 / math.pi\n",
    "print(str(mag) +\"\\u2220\"+ str(degree) + \"\\u00B0\")\n"
   ]
  },
  {
   "cell_type": "code",
   "execution_count": 7,
   "id": "340be0c2",
   "metadata": {},
   "outputs": [
    {
     "name": "stdout",
     "output_type": "stream",
     "text": [
      "80.0∠90.0°\n",
      "(4.898587196589413e-15+80j)\n"
     ]
    }
   ],
   "source": [
    "#Phasor->Complex\n",
    "#takes String input \"mag degree\"\n",
    "PhasorIn = input(\"Input Phasor in format \\u0022[mag] [degrees]\\u0022\").split()\n",
    "try:\n",
    "    PhasorIn[0] = float(PhasorIn[0])\n",
    "    PhasorIn[1] = float(PhasorIn[1])\n",
    "except ValueError:\n",
    "    sys.exit(\"Please try again in Standard format\")\n",
    "\n",
    "#considers whitespace and spilt\n",
    "\n",
    "phasor = Phasor(PhasorIn[0], PhasorIn[1])\n",
    "phasor.print()\n",
    "\n",
    "cpxNum = complex(phasor.mag * math.cos(phasor.deg * math.pi / 180), phasor.mag * math.sin(phasor.deg * math.pi / 180))\n",
    "print(cpxNum)"
   ]
  }
 ],
 "metadata": {
  "kernelspec": {
   "display_name": "Python 3",
   "language": "python",
   "name": "python3"
  },
  "language_info": {
   "codemirror_mode": {
    "name": "ipython",
    "version": 3
   },
   "file_extension": ".py",
   "mimetype": "text/x-python",
   "name": "python",
   "nbconvert_exporter": "python",
   "pygments_lexer": "ipython3",
   "version": "3.12.7"
  }
 },
 "nbformat": 4,
 "nbformat_minor": 5
}
