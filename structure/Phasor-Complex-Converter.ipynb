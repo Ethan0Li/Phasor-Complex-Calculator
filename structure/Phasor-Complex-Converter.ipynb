{
 "cells": [
  {
   "cell_type": "code",
   "execution_count": null,
   "id": "53fe5c5a",
   "metadata": {},
   "outputs": [],
   "source": [
    "#necessary Imports\n",
    "import math\n",
    "import sys"
   ]
  },
  {
   "cell_type": "code",
   "execution_count": null,
   "id": "2d78c383",
   "metadata": {},
   "outputs": [],
   "source": [
    "#Complex->Phasor\n",
    "#takes String input ie \"[real] + [imag]j\"\n",
    "cpxNum = input(\"Input Complex in format \\u0022[real]+[imag]j\\u0022: \")\n",
    "\n",
    "#considers whitespace and replace\n",
    "try:\n",
    "    cpxNum = complex(cpxNum.replace(\" \", \"\"))\n",
    "except ValueError:\n",
    "    sys.exit(\"Please try again in standard format\")\n",
    "\n",
    "print(cpxNum)\n",
    "\n",
    "#convert to phasor\n",
    "mag = math.sqrt(cpxNum.real * cpxNum.real + cpxNum.imag * cpxNum.imag)\n",
    "degree = math.atan(cpxNum.imag / cpxNum.real) * 180 / math.pi\n",
    "print(str(mag) +\"\\u2220\"+ str(degree) + \"\\u00B0\")\n"
   ]
  },
  {
   "cell_type": "code",
   "execution_count": null,
   "id": "340be0c2",
   "metadata": {},
   "outputs": [],
   "source": [
    "#Phasor->Complex\n",
    "#takes String input \"mag degree\"\n",
    "PhasorIn = input(\"Input Phasor in format \\u0022[mag] [degrees]\\u0022\").split()\n",
    "try:\n",
    "    PhasorIn[0] = float(PhasorIn[0])\n",
    "    PhasorIn[1] = float(PhasorIn[1])\n",
    "except ValueError:\n",
    "    sys.exit(\"Please try again in Standard format\")\n",
    "\n",
    "#considers whitespace and spilt\n",
    "class Phasor:\n",
    "    def __init__(self, mag, deg):\n",
    "        self.mag = PhasorIn[0]\n",
    "        self.deg = PhasorIn[1]\n",
    "\n",
    "    def print(self):\n",
    "        print(str(self.mag) +\"\\u2220\"+ str(self.deg) + \"\\u00B0\")\n",
    "\n",
    "phasor = Phasor(PhasorIn[0], PhasorIn[1])\n",
    "phasor.print()\n",
    "\n",
    "\n",
    "\n"
   ]
  }
 ],
 "metadata": {
  "kernelspec": {
   "display_name": "Python 3",
   "language": "python",
   "name": "python3"
  },
  "language_info": {
   "codemirror_mode": {
    "name": "ipython",
    "version": 3
   },
   "file_extension": ".py",
   "mimetype": "text/x-python",
   "name": "python",
   "nbconvert_exporter": "python",
   "pygments_lexer": "ipython3",
   "version": "3.12.7"
  }
 },
 "nbformat": 4,
 "nbformat_minor": 5
}
