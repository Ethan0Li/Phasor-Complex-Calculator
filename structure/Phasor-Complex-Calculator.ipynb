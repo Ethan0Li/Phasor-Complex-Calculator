{
 "cells": [
  {
   "cell_type": "code",
   "execution_count": 3,
   "id": "aadd943b",
   "metadata": {},
   "outputs": [],
   "source": [
    "import math\n",
    "import sys\n",
    "import operator\n",
    "from Phasor import Phasor"
   ]
  },
  {
   "cell_type": "code",
   "execution_count": 35,
   "id": "0704b699",
   "metadata": {},
   "outputs": [
    {
     "ename": "SystemExit",
     "evalue": "Please enter valid Type for Second input",
     "output_type": "error",
     "traceback": [
      "An exception has occurred, use %tb to see the full traceback.\n",
      "\u001b[1;31mSystemExit\u001b[0m\u001b[1;31m:\u001b[0m Please enter valid Type for Second input\n"
     ]
    },
    {
     "name": "stderr",
     "output_type": "stream",
     "text": [
      "c:\\Users\\18132\\anaconda3.1\\Lib\\site-packages\\IPython\\core\\interactiveshell.py:3585: UserWarning: To exit: use 'exit', 'quit', or Ctrl-D.\n",
      "  warn(\"To exit: use 'exit', 'quit', or Ctrl-D.\", stacklevel=1)\n"
     ]
    }
   ],
   "source": [
    "#Processing the inputs\n",
    "\n",
    "ptypes = [\"p\", \"phasor\"]\n",
    "ctypes = [\"c\", \"complex\"]\n",
    "operations = {\n",
    "    \"+\": operator.add,\n",
    "    \"-\": operator.sub,\n",
    "    \"*\": operator.mul,\n",
    "    \"/\": operator.truediv,\n",
    "    \"^\": operator.pow,\n",
    "    \"%\": operator.mod,\n",
    "    \">\": operator.gt,\n",
    "    \">=\": operator.ge,\n",
    "    \"<\": operator.lt,\n",
    "    \"<=\": operator.le,\n",
    "    \"=\": operator.eq,\n",
    "    \"!\": operator.ne,\n",
    "}\n",
    "\n",
    "\n",
    "input1type = input(\"Input type: Use full word or first letter\").replace(\" \", \"\").lower()\n",
    "input1 = input(\"First Number\")\n",
    "\n",
    "if input1type in ptypes:\n",
    "    parts1  = input1.split()\n",
    "    inputphasor1 = Phasor(float(parts1[0]), float(parts1[1]))\n",
    "    try:\n",
    "        output1 = complex(inputphasor1.mag * math.cos(inputphasor1.deg * math.pi / 180), inputphasor1.mag * math.sin(inputphasor1.deg * math.pi / 180))\n",
    "    except ValueError: \n",
    "        sys.exit(\"Please input Phasors in proper format\")\n",
    "\n",
    "if input1type not in ctypes:\n",
    "    sys.exit(\"Please enter valid Type for First input\")\n",
    "\n",
    "\n",
    "opein = input(\"operation\").replace(\" \", \"\")\n",
    "\n",
    "input2type = input(\"Input type: Use full word or first letter\").replace(\" \", \"\")\n",
    "input2 = input(\"Second Number\")\n",
    "\n",
    "if input2type.lower() in ptypes:\n",
    "    parts2 = input2.split(\" \")\n",
    "    inputphasor2 = Phasor(float(parts2[0]), float(parts2[1]))\n",
    "    \n",
    "    try:\n",
    "        output2 = complex(inputphasor2.mag * math.cos(inputphasor2.deg * math.pi / 180), inputphasor2.mag * math.sin(inputphasor2.deg * math.pi / 180))\n",
    "    except ValueError: \n",
    "        sys.exit(\"Please input Phasors in proper format\")\n",
    "\n",
    "if input2type not in ctypes:\n",
    "    sys.exit(\"Please enter valid Type for Second input\")\n",
    "\n",
    "try:\n",
    "    result = operations[opein](output1, output2)\n",
    "except ValueError:\n",
    "    sys.exit(\"Please input proper operators\")\n",
    "\n",
    "print(result)"
   ]
  }
 ],
 "metadata": {
  "kernelspec": {
   "display_name": "Python 3",
   "language": "python",
   "name": "python3"
  },
  "language_info": {
   "codemirror_mode": {
    "name": "ipython",
    "version": 3
   },
   "file_extension": ".py",
   "mimetype": "text/x-python",
   "name": "python",
   "nbconvert_exporter": "python",
   "pygments_lexer": "ipython3",
   "version": "3.12.7"
  }
 },
 "nbformat": 4,
 "nbformat_minor": 5
}
